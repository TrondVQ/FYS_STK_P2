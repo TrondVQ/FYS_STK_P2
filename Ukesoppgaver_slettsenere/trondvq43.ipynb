{
 "cells": [
  {
   "cell_type": "markdown",
   "metadata": {},
   "source": "# Trondvq - week 43\n"
  },
  {
   "cell_type": "code",
   "metadata": {
    "ExecuteTime": {
     "end_time": "2024-10-25T12:54:52.329775Z",
     "start_time": "2024-10-25T12:54:52.296508Z"
    }
   },
   "source": [
    "import autograd.numpy as np  # We need to use this numpy wrapper to make automatic differentiation work later\n",
    "from autograd import grad, elementwise_grad\n",
    "from sklearn import datasets\n",
    "import matplotlib.pyplot as plt\n",
    "from sklearn.metrics import accuracy_score\n",
    "\n",
    "\n",
    "# Defining some activation functions\n",
    "def ReLU(z):\n",
    "    return np.where(z > 0, z, 0)\n",
    "\n",
    "\n",
    "# Derivative of the ReLU function\n",
    "def ReLU_der(z):\n",
    "    return np.where(z > 0, 1, 0)\n",
    "\n",
    "\n",
    "def sigmoid(z):\n",
    "    return 1 / (1 + np.exp(-z))\n",
    "\n",
    "\n",
    "def mse(predict, target):\n",
    "    return np.mean((predict - target) ** 2)"
   ],
   "outputs": [],
   "execution_count": 248
  },
  {
   "metadata": {},
   "cell_type": "markdown",
   "source": [
    "# Exercise 2 - Gradient with one layer using autograd\n",
    "\n",
    "For the first few exercises, we will not use batched inputs. Only a single input vector is passed through the layer at a time.\n",
    "\n",
    "In this exercise you will compute the gradient of a single layer. You only need to change the code in the cells right below an exercise, the rest works out of the box. Feel free to make changes and see how stuff works though!\n"
   ]
  },
  {
   "cell_type": "markdown",
   "metadata": {},
   "source": [
    "**b)** Complete the feed_forward_one_layer function. It should use the sigmoid activation function. Also define the weigth and bias with the correct shapes.\n"
   ]
  },
  {
   "cell_type": "code",
   "metadata": {
    "ExecuteTime": {
     "end_time": "2024-10-25T12:54:52.361977Z",
     "start_time": "2024-10-25T12:54:52.352413Z"
    }
   },
   "source": [
    "def feed_forward_one_layer(W, b, x):\n",
    "    z =  W @ x + b\n",
    "    a = sigmoid(z)\n",
    "    return a\n",
    "\n",
    "\n",
    "def cost_one_layer(W, b, x, target):\n",
    "    predict = feed_forward_one_layer(W, b, x)\n",
    "    return mse(predict, target)\n",
    "\n",
    "\n",
    "x = np.random.rand(2)\n",
    "target = np.random.rand(3)\n",
    "\n",
    "W = np.random.randn(3, 2) # target ->  output 3, x -> input 2\n",
    "b = np.random.randn(3)"
   ],
   "outputs": [],
   "execution_count": 249
  },
  {
   "cell_type": "markdown",
   "metadata": {},
   "source": [
    "**c)** Compute the gradient of the cost function wrt. the weigth and bias by running the cell below. You will not need to change anything, just make sure it runs by defining things correctly in the cell above. This code uses the autograd package which uses backprogagation to compute the gradient!\n"
   ]
  },
  {
   "cell_type": "code",
   "metadata": {
    "ExecuteTime": {
     "end_time": "2024-10-25T12:54:52.434857Z",
     "start_time": "2024-10-25T12:54:52.413834Z"
    }
   },
   "source": [
    "autograd_one_layer = grad(cost_one_layer, [0, 1])\n",
    "W_g, b_g = autograd_one_layer(W, b, x, target)\n",
    "print(W_g, b_g)"
   ],
   "outputs": [
    {
     "name": "stdout",
     "output_type": "stream",
     "text": [
      "[[-0.00955562 -0.006513  ]\n",
      " [ 0.01321374  0.00900633]\n",
      " [-0.03521398 -0.02400143]] [-0.01473166  0.02037129 -0.05428851]\n"
     ]
    }
   ],
   "execution_count": 250
  },
  {
   "cell_type": "markdown",
   "metadata": {},
   "source": [
    "# Exercise 3 - Gradient with one layer writing backpropagation by hand\n",
    "\n",
    "Before you use the gradient you found using autograd, you will have to find the gradient \"manually\", to better understand how the backpropagation computation works. To do backpropagation \"manually\", you will need to write out expressions for many derivatives along the computation.\n"
   ]
  },
  {
   "cell_type": "markdown",
   "metadata": {},
   "source": "**a)** Which intermediary results can be reused between the two expressions?"
  },
  {
   "metadata": {},
   "cell_type": "markdown",
   "source": [
    "The intermediary results we can use are:\n",
    "$$\n",
    "   \\frac{da}{dz}\n",
    "$$\n",
    "as it comes from the derivative of the activation function \n",
    "$$\n",
    "   \\frac{dC}{da}\n",
    "$$\n",
    "as it comes from the derivative of the cost function"
   ]
  },
  {
   "cell_type": "markdown",
   "metadata": {},
   "source": [
    "**b)** What is the derivative of the cost wrt. the final activation? You can use the autograd calculation to make sure you get the correct result. Remember that we compute the mean in mse.\n"
   ]
  },
  {
   "cell_type": "code",
   "metadata": {
    "ExecuteTime": {
     "end_time": "2024-10-25T12:54:52.522393Z",
     "start_time": "2024-10-25T12:54:52.514944Z"
    }
   },
   "source": [
    "z = W @ x + b\n",
    "a = sigmoid(z)\n",
    "\n",
    "predict = a\n",
    "\n",
    "def mse_der(predict, target):\n",
    "    return 2 * (predict - target) / len(target) \n",
    "\n",
    "\n",
    "print(mse_der(predict, target))\n",
    "\n",
    "cost_autograd = grad(mse, 0)\n",
    "print(cost_autograd(predict, target))"
   ],
   "outputs": [
    {
     "name": "stdout",
     "output_type": "stream",
     "text": [
      "[-0.05974069  0.23076101 -0.22877004]\n",
      "[-0.05974069  0.23076101 -0.22877004]\n"
     ]
    }
   ],
   "execution_count": 251
  },
  {
   "cell_type": "markdown",
   "metadata": {},
   "source": [
    "**c)** What is the expression for the derivative of the sigmoid activation function? You can use the autograd calculation to make sure you get the correct result.\n"
   ]
  },
  {
   "cell_type": "code",
   "metadata": {
    "ExecuteTime": {
     "end_time": "2024-10-25T12:54:52.607972Z",
     "start_time": "2024-10-25T12:54:52.601633Z"
    }
   },
   "source": [
    "def sigmoid_der(z):\n",
    "    sigmoid = 1 / (1 + np.exp(-z))\n",
    "    return sigmoid * (1 - sigmoid)\n",
    "\n",
    "\n",
    "print(sigmoid_der(z))\n",
    "\n",
    "sigmoid_autograd = elementwise_grad(sigmoid, 0)\n",
    "print(sigmoid_autograd(z))"
   ],
   "outputs": [
    {
     "name": "stdout",
     "output_type": "stream",
     "text": [
      "[0.24659339 0.08827872 0.23730602]\n",
      "[0.24659339 0.08827872 0.23730602]\n"
     ]
    }
   ],
   "execution_count": 252
  },
  {
   "cell_type": "markdown",
   "metadata": {},
   "source": [
    "**d)** Using the two derivatives you just computed, compute this intermetidary gradient you will use later:\n",
    "\n",
    "$$\n",
    "\\frac{dC}{dz} = \\frac{dC}{da}\\frac{da}{dz}\n",
    "$$\n"
   ]
  },
  {
   "cell_type": "code",
   "metadata": {
    "ExecuteTime": {
     "end_time": "2024-10-25T12:54:52.650174Z",
     "start_time": "2024-10-25T12:54:52.644977Z"
    }
   },
   "source": [
    "dC_da = mse_der(a, target)\n",
    "dC_dz = dC_da * sigmoid_der(z)"
   ],
   "outputs": [],
   "execution_count": 253
  },
  {
   "cell_type": "markdown",
   "metadata": {},
   "source": [
    "**e)** What is the derivative of the intermediary z wrt. the weight and bias? What should the shapes be? The one for the weights is a little tricky, it can be easier to play around in the next exercise first. You can also try computing it with autograd to get a hint.\n",
    "\n",
    "z = W @ x + b\n",
    "\n",
    "The derivative of intermediary z wrt. the weight:\n",
    "As there is a matrix multiplication between the weight and x, the derivative will be x transposed.\n",
    "$$\n",
    "   \\frac{dz}{dW} = x^T\n",
    "$$\n",
    "\n",
    "The shape will be the same as the weight matrix.\n",
    "\n",
    "The derivative of intermediary z wrt. the bias:\n",
    "There is a linear relationship between the bias and z, so the derivative is 1.\n",
    "$$\n",
    "   \\frac{dz}{db} = 1\n",
    "$$\n",
    "\n",
    "The shape will be the same as the bias vector\n",
    "\n"
   ]
  },
  {
   "cell_type": "markdown",
   "metadata": {},
   "source": [
    "**f)** Now combine the expressions you have worked with so far to compute the gradients! Note that you always need to do a feed forward pass while saving the zs and as before you do backpropagation, as they are used in the derivative expressions\n"
   ]
  },
  {
   "cell_type": "code",
   "metadata": {
    "ExecuteTime": {
     "end_time": "2024-10-25T12:54:52.691943Z",
     "start_time": "2024-10-25T12:54:52.686879Z"
    }
   },
   "source": [
    "dC_da = mse_der(a, target)\n",
    "dC_dz = dC_da * sigmoid_der(z)\n",
    "dC_dW = np.outer(dC_dz, x)\n",
    "dC_db = dC_dz\n",
    "\n",
    "print(dC_dW, dC_db)"
   ],
   "outputs": [
    {
     "name": "stdout",
     "output_type": "stream",
     "text": [
      "[[-0.00955562 -0.006513  ]\n",
      " [ 0.01321374  0.00900633]\n",
      " [-0.03521398 -0.02400143]] [-0.01473166  0.02037129 -0.05428851]\n"
     ]
    }
   ],
   "execution_count": 254
  },
  {
   "cell_type": "markdown",
   "metadata": {},
   "source": [
    "You should get the same results as with autograd.\n"
   ]
  },
  {
   "cell_type": "code",
   "metadata": {
    "ExecuteTime": {
     "end_time": "2024-10-25T12:54:52.743181Z",
     "start_time": "2024-10-25T12:54:52.737782Z"
    }
   },
   "source": [
    "W_g, b_g = autograd_one_layer(W, b, x, target)\n",
    "print(W_g, b_g)"
   ],
   "outputs": [
    {
     "name": "stdout",
     "output_type": "stream",
     "text": [
      "[[-0.00955562 -0.006513  ]\n",
      " [ 0.01321374  0.00900633]\n",
      " [-0.03521398 -0.02400143]] [-0.01473166  0.02037129 -0.05428851]\n"
     ]
    }
   ],
   "execution_count": 255
  },
  {
   "cell_type": "markdown",
   "metadata": {},
   "source": [
    "# Exercise 4 - Gradient with two layers writing backpropagation by hand\n"
   ]
  },
  {
   "cell_type": "markdown",
   "metadata": {},
   "source": [
    "Now that you have implemented backpropagation for one layer, you have found most of the expressions you will need for more layers. Let's move up to two layers.\n"
   ]
  },
  {
   "cell_type": "code",
   "metadata": {
    "ExecuteTime": {
     "end_time": "2024-10-25T12:54:52.809862Z",
     "start_time": "2024-10-25T12:54:52.805119Z"
    }
   },
   "source": [
    "x = np.random.rand(2)\n",
    "target = np.random.rand(4)\n",
    "\n",
    "W1 = np.random.rand(3, 2)\n",
    "b1 = np.random.rand(3)\n",
    "\n",
    "W2 = np.random.rand(4, 3)\n",
    "b2 = np.random.rand(4)\n",
    "\n",
    "layers = [(W1, b1), (W2, b2)]"
   ],
   "outputs": [],
   "execution_count": 256
  },
  {
   "cell_type": "code",
   "metadata": {
    "ExecuteTime": {
     "end_time": "2024-10-25T12:54:52.851214Z",
     "start_time": "2024-10-25T12:54:52.847574Z"
    }
   },
   "source": [
    "z1 = W1 @ x + b1\n",
    "a1 = sigmoid(z1)\n",
    "z2 = W2 @ a1 + b2\n",
    "a2 = sigmoid(z2)"
   ],
   "outputs": [],
   "execution_count": 257
  },
  {
   "cell_type": "markdown",
   "metadata": {},
   "source": [
    "We begin by computing the gradients of the last layer, as the gradients must be propagated backwards from the end.\n",
    "\n",
    "**a)** Compute the gradients of the last layer, just like you did the single layer in the previous exercise.\n"
   ]
  },
  {
   "cell_type": "code",
   "metadata": {
    "ExecuteTime": {
     "end_time": "2024-10-25T12:54:52.892052Z",
     "start_time": "2024-10-25T12:54:52.888320Z"
    }
   },
   "source": [
    "dC_da2 = mse_der(a2, target)\n",
    "dC_dz2 = dC_da2 * sigmoid_der(z2)\n",
    "dC_dW2 = np.outer(dC_dz2, a1)\n",
    "dC_db2 = dC_dz2 "
   ],
   "outputs": [],
   "execution_count": 258
  },
  {
   "cell_type": "markdown",
   "metadata": {},
   "source": [
    "To find the derivative of the cost wrt. the activation of the first layer, we need a new expression, the one furthest to the right in the following.\n",
    "\n",
    "$$\n",
    "\\frac{dC}{da_1} = \\frac{dC}{dz_2}\\frac{dz_2}{da_1}\n",
    "$$\n",
    "\n",
    "**b)** What is the derivative of the second layer intermetiate wrt. the first layer activation? (First recall how you compute $z_2$)\n",
    "\n",
    "$$\n",
    "\\frac{dz_2}{da_1}\n",
    "$$\n"
   ]
  },
  {
   "cell_type": "code",
   "metadata": {
    "ExecuteTime": {
     "end_time": "2024-10-25T12:54:52.930890Z",
     "start_time": "2024-10-25T12:54:52.927075Z"
    }
   },
   "source": [
    "#z2 =  W2 @ a1 + b2 -> derivative with respect to a1\n",
    "\n",
    "dz2_da1 = W2.T"
   ],
   "outputs": [],
   "execution_count": 259
  },
  {
   "cell_type": "markdown",
   "metadata": {},
   "source": [
    "**c)** Use this expression, together with expressions which are equivelent to ones for the last layer to compute all the derivatives of the first layer.\n",
    "\n",
    "$$\n",
    "\\frac{dC}{dW_1} = \\frac{dC}{da_1}\\frac{da_1}{dz_1}\\frac{dz_1}{dW_1}\n",
    "$$\n",
    "\n",
    "$$\n",
    "\\frac{dC}{db_1} = \\frac{dC}{da_1}\\frac{da_1}{dz_1}\\frac{dz_1}{db_1}\n",
    "$$\n"
   ]
  },
  {
   "cell_type": "code",
   "metadata": {
    "ExecuteTime": {
     "end_time": "2024-10-25T12:54:52.969245Z",
     "start_time": "2024-10-25T12:54:52.964261Z"
    }
   },
   "source": [
    "dC_da1 = dz2_da1 @ dC_dz2\n",
    "dC_dz1 = dC_da1 * sigmoid_der(z1)\n",
    "dC_dW1 = np.outer(dC_dz1, x)\n",
    "dC_db1 = dC_dz1"
   ],
   "outputs": [],
   "execution_count": 260
  },
  {
   "cell_type": "code",
   "metadata": {
    "ExecuteTime": {
     "end_time": "2024-10-25T12:54:53.005932Z",
     "start_time": "2024-10-25T12:54:53.001924Z"
    }
   },
   "source": [
    "print(dC_dW1, dC_db1)\n",
    "print(dC_dW2, dC_db2)"
   ],
   "outputs": [
    {
     "name": "stdout",
     "output_type": "stream",
     "text": [
      "[[0.00282524 0.0023705 ]\n",
      " [0.00317703 0.00266566]\n",
      " [0.001463   0.00122752]] [0.0031767  0.00357224 0.00164499]\n",
      "[[ 0.01594189  0.01542827  0.01389762]\n",
      " [ 0.00509916  0.00493487  0.00444528]\n",
      " [-0.00514188 -0.00497622 -0.00448252]\n",
      " [ 0.03856889  0.03732625  0.03362309]] [ 0.01945072  0.00622149 -0.00627361  0.04705794]\n"
     ]
    }
   ],
   "execution_count": 261
  },
  {
   "cell_type": "markdown",
   "metadata": {},
   "source": [
    "**d)** Make sure you got the same gradient as the following code which uses autograd to do backpropagation.\n"
   ]
  },
  {
   "cell_type": "code",
   "metadata": {
    "ExecuteTime": {
     "end_time": "2024-10-25T12:54:53.049783Z",
     "start_time": "2024-10-25T12:54:53.045092Z"
    }
   },
   "source": [
    "def feed_forward_two_layers(layers, x):\n",
    "    W1, b1 = layers[0]\n",
    "    z1 = W1 @ x + b1\n",
    "    a1 = sigmoid(z1)\n",
    "\n",
    "    W2, b2 = layers[1]\n",
    "    z2 = W2 @ a1 + b2\n",
    "    a2 = sigmoid(z2)\n",
    "\n",
    "    return a2"
   ],
   "outputs": [],
   "execution_count": 262
  },
  {
   "cell_type": "code",
   "metadata": {
    "ExecuteTime": {
     "end_time": "2024-10-25T12:54:53.095936Z",
     "start_time": "2024-10-25T12:54:53.082777Z"
    }
   },
   "source": [
    "def cost_two_layers(layers, x, target):\n",
    "    predict = feed_forward_two_layers(layers, x)\n",
    "    return mse(predict, target)\n",
    "\n",
    "\n",
    "grad_two_layers = grad(cost_two_layers, 0)\n",
    "grad_two_layers(layers, x, target)"
   ],
   "outputs": [
    {
     "data": {
      "text/plain": [
       "[(array([[0.00282524, 0.0023705 ],\n",
       "         [0.00317703, 0.00266566],\n",
       "         [0.001463  , 0.00122752]]),\n",
       "  array([0.0031767 , 0.00357224, 0.00164499])),\n",
       " (array([[ 0.01594189,  0.01542827,  0.01389762],\n",
       "         [ 0.00509916,  0.00493487,  0.00444528],\n",
       "         [-0.00514188, -0.00497622, -0.00448252],\n",
       "         [ 0.03856889,  0.03732625,  0.03362309]]),\n",
       "  array([ 0.01945072,  0.00622149, -0.00627361,  0.04705794]))]"
      ]
     },
     "execution_count": 263,
     "metadata": {},
     "output_type": "execute_result"
    }
   ],
   "execution_count": 263
  },
  {
   "cell_type": "markdown",
   "metadata": {},
   "source": [
    "**e)** How would you use the gradient from this layer to compute the gradient of an even earlier layer? Would the expressions be any different?\n",
    "\n",
    "This is the concept of backpropagation. Here we would use this layer's gradient to compute the gradient of the previous. This is done through the chain rule.  We use the gradient of this layer’s pre-activation output (z) with respect to the previous layer’s activation (a) and then apply the activation function’s derivative ($\\frac{da}{dz}$). \n",
    "\n",
    "The expressions would remain the same as we follow the same steps for each layer. "
   ]
  },
  {
   "cell_type": "markdown",
   "metadata": {},
   "source": [
    "# Exercise 5 - Gradient with any number of layers writing backpropagation by hand\n"
   ]
  },
  {
   "cell_type": "code",
   "metadata": {
    "ExecuteTime": {
     "end_time": "2024-10-25T12:54:53.135712Z",
     "start_time": "2024-10-25T12:54:53.129515Z"
    }
   },
   "source": [
    "def create_layers(network_input_size, layer_output_sizes):\n",
    "    layers = []\n",
    "\n",
    "    i_size = network_input_size\n",
    "    for layer_output_size in layer_output_sizes:\n",
    "        W = np.random.randn(layer_output_size, i_size)\n",
    "        b = np.random.randn(layer_output_size)\n",
    "        layers.append((W, b))\n",
    "\n",
    "        i_size = layer_output_size\n",
    "    return layers\n",
    "\n",
    "\n",
    "def feed_forward(input, layers, activation_funcs):\n",
    "    a = input\n",
    "    for (W, b), activation_func in zip(layers, activation_funcs):\n",
    "        z = W @ a + b\n",
    "        a = activation_func(z)\n",
    "    return a\n",
    "\n",
    "\n",
    "def cost(layers, input, activation_funcs, target):\n",
    "    predict = feed_forward(input, layers, activation_funcs)\n",
    "    return mse(predict, target)"
   ],
   "outputs": [],
   "execution_count": 264
  },
  {
   "cell_type": "markdown",
   "metadata": {},
   "source": [
    "You might have already have noticed a very important detail in backpropagation: You need the values from the forward pass to compute all the gradients! The feed forward method above is great for efficiency and for using autograd, as it only cares about computing the final output, but now we need to also save the results along the way.\n",
    "\n",
    "Here is a function which does that for you.\n"
   ]
  },
  {
   "cell_type": "code",
   "metadata": {
    "ExecuteTime": {
     "end_time": "2024-10-25T12:54:53.175216Z",
     "start_time": "2024-10-25T12:54:53.170295Z"
    }
   },
   "source": [
    "def feed_forward_saver(input, layers, activation_funcs):\n",
    "    layer_inputs = []\n",
    "    zs = []\n",
    "    a = input\n",
    "    for (W, b), activation_func in zip(layers, activation_funcs):\n",
    "        layer_inputs.append(a)\n",
    "        z = W @ a + b\n",
    "        a = activation_func(z)\n",
    "\n",
    "        zs.append(z)\n",
    "\n",
    "    return layer_inputs, zs, a"
   ],
   "outputs": [],
   "execution_count": 265
  },
  {
   "cell_type": "markdown",
   "metadata": {},
   "source": [
    "**a)** Now, complete the backpropagation function so that it returns the gradient of the cost function wrt. all the weigths and biases. Use the autograd calculation below to make sure you get the correct answer.\n"
   ]
  },
  {
   "cell_type": "code",
   "metadata": {
    "ExecuteTime": {
     "end_time": "2024-10-25T12:54:53.216002Z",
     "start_time": "2024-10-25T12:54:53.209914Z"
    }
   },
   "source": [
    "def backpropagation(\n",
    "    input, layers, activation_funcs, target, activation_ders, cost_der=mse_der\n",
    "):\n",
    "    layer_inputs, zs, predict = feed_forward_saver(input, layers, activation_funcs)\n",
    "\n",
    "    layer_grads = [() for layer in layers]\n",
    "\n",
    "    # We loop over the layers, from the last to the first\n",
    "    for i in reversed(range(len(layers))):\n",
    "        layer_input, z, activation_der = layer_inputs[i], zs[i], activation_ders[i]\n",
    "\n",
    "        if i == len(layers) - 1:\n",
    "            # For last layer we use cost derivative as dC_da(L) can be computed directly\n",
    "            dC_da = cost_der(predict, target)\n",
    "        else:\n",
    "            # For other layers we build on previous z derivative, as dC_da(i) = dC_dz(i+1) * dz(i+1)_da(i)\n",
    "            (W, b) = layers[i + 1]\n",
    "            # dC/dz from the next layer -> layer_grads[i + 1][1]\n",
    "            dC_da = W.T @ (layer_grads[i + 1][1]) # as  dz(i+1)_da(i)  -> W.T\n",
    "\n",
    "        dC_dz = dC_da * activation_der(z)\n",
    "        dC_dW = np.outer(dC_dz, layer_input)\n",
    "        dC_db =  dC_dz\n",
    "\n",
    "        layer_grads[i] = (dC_dW, dC_db)\n",
    "\n",
    "    return layer_grads"
   ],
   "outputs": [],
   "execution_count": 266
  },
  {
   "cell_type": "code",
   "metadata": {
    "ExecuteTime": {
     "end_time": "2024-10-25T12:54:53.254494Z",
     "start_time": "2024-10-25T12:54:53.249153Z"
    }
   },
   "source": [
    "network_input_size = 2\n",
    "layer_output_sizes = [3, 4]\n",
    "activation_funcs = [sigmoid, ReLU]\n",
    "activation_ders = [sigmoid_der, ReLU_der]\n",
    "\n",
    "layers = create_layers(network_input_size, layer_output_sizes)\n",
    "\n",
    "x = np.random.rand(network_input_size)\n",
    "target = np.random.rand(4)"
   ],
   "outputs": [],
   "execution_count": 267
  },
  {
   "cell_type": "code",
   "metadata": {
    "ExecuteTime": {
     "end_time": "2024-10-25T12:54:53.292838Z",
     "start_time": "2024-10-25T12:54:53.287858Z"
    }
   },
   "source": [
    "layer_grads = backpropagation(x, layers, activation_funcs, target, activation_ders)\n",
    "print(layer_grads)"
   ],
   "outputs": [
    {
     "name": "stdout",
     "output_type": "stream",
     "text": [
      "[(array([[0., 0.],\n",
      "       [0., 0.],\n",
      "       [0., 0.]]), array([0., 0., 0.])), (array([[-0., -0., -0.],\n",
      "       [-0., -0., -0.],\n",
      "       [-0., -0., -0.],\n",
      "       [-0., -0., -0.]]), array([-0., -0., -0., -0.]))]\n"
     ]
    }
   ],
   "execution_count": 268
  },
  {
   "cell_type": "code",
   "metadata": {
    "ExecuteTime": {
     "end_time": "2024-10-25T12:54:53.359908Z",
     "start_time": "2024-10-25T12:54:53.351493Z"
    }
   },
   "source": [
    "cost_grad = grad(cost, 0)\n",
    "cost_grad(layers, x, [sigmoid, ReLU], target)"
   ],
   "outputs": [
    {
     "data": {
      "text/plain": [
       "[(array([[0., 0.],\n",
       "         [0., 0.],\n",
       "         [0., 0.]]),\n",
       "  array([0., 0., 0.])),\n",
       " (array([[0., 0., 0.],\n",
       "         [0., 0., 0.],\n",
       "         [0., 0., 0.],\n",
       "         [0., 0., 0.]]),\n",
       "  array([0., 0., 0., 0.]))]"
      ]
     },
     "execution_count": 269,
     "metadata": {},
     "output_type": "execute_result"
    }
   ],
   "execution_count": 269
  },
  {
   "cell_type": "markdown",
   "metadata": {},
   "source": [
    "# Exercise 6 - Batched inputs\n",
    "\n",
    "Make new versions of all the functions in exercise 5 which now take batched inputs instead. See last weeks exercise 5 for details on how to batch inputs to neural networks. You will also need to update the backpropogation function.\n"
   ]
  },
  {
   "metadata": {
    "ExecuteTime": {
     "end_time": "2024-10-25T12:54:53.493068Z",
     "start_time": "2024-10-25T12:54:53.479338Z"
    }
   },
   "cell_type": "code",
   "source": [
    "#From last week\n",
    "def create_layers_batch(network_input_size, layer_output_sizes):\n",
    "    layers = []\n",
    "    i_size = network_input_size\n",
    "    for layer_output_size in layer_output_sizes:\n",
    "        W = np.random.randn(i_size,layer_output_size)\n",
    "        b = np.random.randn(layer_output_size)\n",
    "        layers.append((W, b))\n",
    "        i_size = layer_output_size\n",
    "    return layers\n",
    "#From last week\n",
    "def feed_forward_batch(inputs, layers, activation_funcs):\n",
    "    a = inputs\n",
    "    for (W, b), activation_func in zip(layers, activation_funcs):\n",
    "        z = a @ W + b\n",
    "        a = activation_func(z)\n",
    "    return a\n",
    "#From last week\n",
    "def cost_batch(layers, input, activation_funcs, target):\n",
    "    predict = feed_forward_batch(input, layers, activation_funcs)\n",
    "    return mse(predict, target)\n",
    "\n",
    "def feed_forward_saver_batch(input_batch, layers, activation_funcs):\n",
    "    layer_inputs = []\n",
    "    zs = []\n",
    "    a = input_batch  \n",
    "    for (W, b), activation_func in zip(layers, activation_funcs):\n",
    "        layer_inputs.append(a)  \n",
    "        z = a @ W + b #Transposed\n",
    "        a = activation_func(z) \n",
    "        zs.append(z)  \n",
    "    return layer_inputs, zs, a\n",
    "\n",
    "\n",
    "def backpropagation_batch(\n",
    "        input, layers, activation_funcs, target, activation_ders, cost_der=mse_der\n",
    "):\n",
    "    layer_inputs, zs, predict = feed_forward_saver_batch(input, layers, activation_funcs)\n",
    "    layer_grads = [() for layer in layers]\n",
    "\n",
    "    batch_size = input.shape[0]\n",
    "\n",
    "    # We loop over the layers, from the last to the first\n",
    "    for i in reversed(range(len(layers))):\n",
    "        layer_input, z, activation_der = layer_inputs[i], zs[i], activation_ders[i]\n",
    "\n",
    "        if i == len(layers) - 1:\n",
    "            # For last layer we use cost derivative as dC_da(L) can be computed directly\n",
    "            dC_da = cost_der(predict, target)\n",
    "        else:\n",
    "            # For other layers we build on previous z derivative, as dC_da(i) = dC_dz(i+1) * dz(i+1)_da(i)\n",
    "            W = layers[i + 1][0]\n",
    "            # dC/dz from the next layer -> layer_grads[i + 1][1]\n",
    "            dC_da =(layer_grads[i + 1][1]) @  W.T # Transposed\n",
    "\n",
    "        dC_dz = dC_da * activation_der(z)\n",
    "        dC_dW = (layer_input.T @ dC_dz) / batch_size #batch\n",
    "        dC_db = np.mean(dC_dz, axis=0) #\n",
    "        \n",
    "        layer_grads[i] = (dC_dW, dC_db)\n",
    "\n",
    "    return layer_grads"
   ],
   "outputs": [],
   "execution_count": 270
  },
  {
   "metadata": {
    "ExecuteTime": {
     "end_time": "2024-10-25T12:54:53.527747Z",
     "start_time": "2024-10-25T12:54:53.520186Z"
    }
   },
   "cell_type": "code",
   "source": [
    "network_input_size = 3\n",
    "layer_output_sizes = [5, 2]\n",
    "batch_size = 4\n",
    "\n",
    "layers = create_layers_batch(network_input_size, layer_output_sizes)\n",
    "\n",
    "inputs = np.random.randn(batch_size, network_input_size)\n",
    "target = np.random.randn(batch_size, layer_output_sizes[-1])\n",
    "\n",
    "activation_funcs = [sigmoid, ReLU]\n",
    "activation_ders = [sigmoid_der, ReLU_der]\n",
    "\n",
    "backpropagation_batch(inputs, layers, activation_funcs, target, activation_ders, cost_der=mse_der)\n"
   ],
   "outputs": [
    {
     "data": {
      "text/plain": [
       "[(array([[ 0.03991761, -0.00855397, -0.00472669,  0.01363542,  0.00322598],\n",
       "         [ 0.05642971, -0.02012056, -0.00664997,  0.02053988,  0.00640443],\n",
       "         [-0.04220574,  0.0041889 ,  0.00470921, -0.01415179, -0.00284884]]),\n",
       "  array([-0.12651016,  0.04127896,  0.01404353, -0.04688054, -0.01515062])),\n",
       " (array([[-0.12679767,  0.        ],\n",
       "         [-0.02749372,  0.        ],\n",
       "         [-0.07297573,  0.        ],\n",
       "         [-0.12663614,  0.        ],\n",
       "         [-0.01746809,  0.        ]]),\n",
       "  array([-0.19811082,  0.        ]))]"
      ]
     },
     "execution_count": 271,
     "metadata": {},
     "output_type": "execute_result"
    }
   ],
   "execution_count": 271
  },
  {
   "cell_type": "markdown",
   "metadata": {},
   "source": [
    "# Exercise 7 - Training\n"
   ]
  },
  {
   "cell_type": "markdown",
   "metadata": {},
   "source": [
    "**a)** Complete exercise 6 and 7 from last week, but use your own backpropogation implementation to compute the gradient.\n",
    "\n",
    "**b)** Use stochastic gradient descent with momentum when you train your network.\n"
   ]
  },
  {
   "metadata": {
    "ExecuteTime": {
     "end_time": "2024-10-25T12:54:53.614456Z",
     "start_time": "2024-10-25T12:54:53.611243Z"
    }
   },
   "cell_type": "code",
   "source": [
    "import numpy as np\n",
    "from sklearn import datasets\n",
    "from sklearn.metrics import accuracy_score\n"
   ],
   "outputs": [],
   "execution_count": 272
  },
  {
   "metadata": {
    "ExecuteTime": {
     "end_time": "2024-10-25T12:54:53.669658Z",
     "start_time": "2024-10-25T12:54:53.663387Z"
    }
   },
   "cell_type": "code",
   "source": [
    "#a)\n",
    "#From week 42\n",
    "def cross_entropy_der(predict, target):\n",
    "    return predict - target  # Cross-entropy derivative\n",
    "\n",
    "def accuracy(predictions, targets):\n",
    "    one_hot_predictions = np.zeros(predictions.shape)\n",
    "\n",
    "    for i, prediction in enumerate(predictions):\n",
    "        one_hot_predictions[i, np.argmax(prediction)] = 1\n",
    "    return accuracy_score(one_hot_predictions, targets)\n",
    "\n",
    "# from last week, but with backpropagation_batch\n",
    "def train_network_backprop(inputs, layers, activation_funcs, activation_ders, targets, learning_rate=0.001, epochs=100):\n",
    "    for i in range(epochs):\n",
    "        layers_grad = backpropagation_batch(inputs, layers, activation_funcs, targets, activation_ders, cost_der=cross_entropy_der)\n",
    "        for (W, b), (W_g, b_g) in zip(layers, layers_grad):\n",
    "            W -= learning_rate * W_g\n",
    "            b -= learning_rate * b_g\n",
    "\n"
   ],
   "outputs": [],
   "execution_count": 273
  },
  {
   "metadata": {
    "ExecuteTime": {
     "end_time": "2024-10-25T12:54:53.746999Z",
     "start_time": "2024-10-25T12:54:53.710819Z"
    }
   },
   "cell_type": "code",
   "source": [
    "# From last week\n",
    "iris = datasets.load_iris()\n",
    "inputs = iris.data\n",
    "targets = np.zeros((len(iris.data), 3))\n",
    "for i, t in enumerate(iris.target):\n",
    "    targets[i, t] = 1\n",
    "\n",
    "\n",
    "network_input_size = 4\n",
    "layer_output_sizes = [8, 3]\n",
    "activation_funcs = [sigmoid, ReLU]\n",
    "activation_ders = [sigmoid_der, ReLU_der]\n",
    "layers = create_layers_batch(network_input_size, layer_output_sizes)\n",
    "\n",
    "train_network_backprop(inputs, layers, activation_funcs, activation_ders, targets, epochs=100)\n",
    "predictions = feed_forward_batch(inputs, layers, activation_funcs)\n",
    "print(\"Accuracy with custom backpropagation:\", accuracy(predictions, targets))"
   ],
   "outputs": [
    {
     "name": "stdout",
     "output_type": "stream",
     "text": [
      "Accuracy with custom backpropagation: 0.3333333333333333\n"
     ]
    }
   ],
   "execution_count": 274
  },
  {
   "metadata": {
    "ExecuteTime": {
     "end_time": "2024-10-25T12:54:54.001434Z",
     "start_time": "2024-10-25T12:54:53.990904Z"
    }
   },
   "cell_type": "code",
   "source": [
    "# b)\n",
    "# Smiliar to SGD from week 41\n",
    "def SGD_momentum_with_backprop(inputs, layers, activation_funcs, activation_ders, targets, batch_size=5, eta=0.01, momentum=0.8, epochs=100):\n",
    "    M = batch_size\n",
    "    m = inputs.shape[0]  // batch_size  # Number of mini-batches\n",
    "    changes = [(np.zeros_like(W), np.zeros_like(b)) for W, b in layers]\n",
    "    \n",
    "    for epoch in range(epochs):\n",
    "        for batch in range(m):\n",
    "            random_indices = np.random.choice(inputs.shape[0], batch_size, replace=False)\n",
    "            batch_inputs = inputs[random_indices]\n",
    "            batch_targets = targets[random_indices]\n",
    "\n",
    "            layer_grads = backpropagation_batch(batch_inputs, layers, activation_funcs, batch_targets, activation_ders, cost_der=cross_entropy_der)\n",
    "\n",
    "            for i, ((W, b), (W_g, b_g), (W_change, b_change)) in enumerate(zip(layers, layer_grads, changes)):\n",
    "                W_change_new = eta * W_g + momentum * W_change\n",
    "                b_change_new = eta * b_g + momentum * b_change\n",
    "                W -= W_change_new\n",
    "                b -= b_change_new\n",
    "                changes[i] = (W_change_new, b_change_new)\n",
    "\n"
   ],
   "outputs": [],
   "execution_count": 275
  },
  {
   "metadata": {
    "ExecuteTime": {
     "end_time": "2024-10-25T12:54:54.675058Z",
     "start_time": "2024-10-25T12:54:54.092771Z"
    }
   },
   "cell_type": "code",
   "source": [
    "# From last week\n",
    "iris = datasets.load_iris()\n",
    "inputs = iris.data\n",
    "targets = np.zeros((len(iris.data), 3))\n",
    "for i, t in enumerate(iris.target):\n",
    "    targets[i, t] = 1\n",
    "\n",
    "\n",
    "network_input_size = 4\n",
    "layer_output_sizes = [8, 3]\n",
    "activation_funcs = [sigmoid, ReLU]\n",
    "activation_ders = [sigmoid_der, ReLU_der]\n",
    "layers = create_layers_batch(network_input_size, layer_output_sizes)\n",
    "\n",
    "SGD_momentum_with_backprop(inputs, layers, activation_funcs, activation_ders, targets, batch_size=5, eta=0.01, momentum=0.8, epochs=100)\n",
    "predictions = feed_forward_batch(inputs, layers, activation_funcs)\n",
    "print(\"Accuracy(SGD + momentum):\", accuracy(predictions, targets))"
   ],
   "outputs": [
    {
     "name": "stdout",
     "output_type": "stream",
     "text": [
      "Accuracy(SGD + momentum): 0.3333333333333333\n"
     ]
    }
   ],
   "execution_count": 276
  },
  {
   "cell_type": "markdown",
   "metadata": {},
   "source": [
    "# Exercise 8 (Optional) - Object orientation\n",
    "\n",
    "Passing in the layers, activations functions, activation derivatives and cost derivatives into the functions each time leads to code which is easy to understand in isoloation, but messier when used in a larger context with data splitting, data scaling, gradient methods and so forth. Creating an object which stores these values can lead to code which is much easier to use.\n",
    "\n",
    "**a)** Write a neural network class. You are free to implement it how you see fit, though we strongly recommend to not save any input or output values as class attributes, nor let the neural network class handle gradient methods internally. Gradient methods should be handled outside, by performing general operations on the layer_grads list using functions or classes separate to the neural network.\n",
    "\n",
    "We provide here a skeleton structure which should get you started.\n"
   ]
  },
  {
   "cell_type": "code",
   "metadata": {
    "ExecuteTime": {
     "end_time": "2024-10-25T12:54:54.793165Z",
     "start_time": "2024-10-25T12:54:54.773678Z"
    }
   },
   "source": [
    "import numpy as np\n",
    "\n",
    "class NeuralNetwork:\n",
    "    def __init__(\n",
    "            self,\n",
    "            network_input_size,\n",
    "            layer_output_sizes,\n",
    "            activation_funcs,\n",
    "            activation_ders,\n",
    "            cost_fun,\n",
    "            cost_der,\n",
    "            learning_rate=0.001,\n",
    "    ):\n",
    "        # Initialize the network layers\n",
    "        self.layers = self.create_layers(network_input_size, layer_output_sizes)\n",
    "        self.activation_funcs = activation_funcs\n",
    "        self.activation_ders = activation_ders\n",
    "        self.cost_fun = cost_fun \n",
    "        self.cost_der = cost_der  \n",
    "        self.learning_rate = learning_rate\n",
    "\n",
    "    def create_layers(self, network_input_size, layer_output_sizes):\n",
    "        layers = []\n",
    "        i_size = network_input_size\n",
    "        for layer_output_size in layer_output_sizes:\n",
    "            W = np.random.randn(i_size, layer_output_size)\n",
    "            b = np.random.randn(layer_output_size)\n",
    "            layers.append((W, b))\n",
    "            i_size = layer_output_size\n",
    "        return layers\n",
    "\n",
    "    def predict(self, inputs):\n",
    "        a = inputs\n",
    "        for (W, b), activation_func in zip(self.layers, self.activation_funcs):\n",
    "            z = a @ W + b\n",
    "            a = activation_func(z)\n",
    "        return a\n",
    "\n",
    "    def cost(self, inputs, targets):\n",
    "        predictions = self.predict(inputs)\n",
    "        return self.cost_fun(predictions, targets)\n",
    "\n",
    "    def _feed_forward_saver(self, inputs):\n",
    "        layer_inputs = []\n",
    "        zs = []\n",
    "        a = inputs\n",
    "        for (W, b), activation_func in zip(self.layers, self.activation_funcs):\n",
    "            layer_inputs.append(a)\n",
    "            z = a @ W + b\n",
    "            a = activation_func(z)\n",
    "            zs.append(z)\n",
    "        return layer_inputs, zs, a\n",
    "\n",
    "    def compute_gradient(self, inputs, targets):\n",
    "        layer_inputs, zs, predictions = self._feed_forward_saver(inputs)\n",
    "        batch_size = inputs.shape[0]\n",
    "        layer_grads = [() for _ in self.layers]\n",
    "\n",
    "        for i in reversed(range(len(self.layers))):\n",
    "            layer_input, z, activation_der = layer_inputs[i], zs[i], self.activation_ders[i]\n",
    "\n",
    "            if i == len(self.layers) - 1:\n",
    "                dC_da = self.cost_der(predictions, targets)\n",
    "            else:\n",
    "                W = self.layers[i + 1][0]\n",
    "                dC_da = (layer_grads[i + 1][1]) @ W.T\n",
    "\n",
    "            dC_dz = dC_da * activation_der(z)\n",
    "            dC_dW = (layer_input.T @ dC_dz) / batch_size\n",
    "            dC_db = np.mean(dC_dz, axis=0)\n",
    "\n",
    "            layer_grads[i] = (dC_dW, dC_db)\n",
    "\n",
    "        return layer_grads\n",
    "\n",
    "    def update_weights(self, layer_grads):\n",
    "        for (W, b), (W_g, b_g) in zip(self.layers, layer_grads):\n",
    "            W -= self.learning_rate * W_g\n",
    "            b -= self.learning_rate * b_g\n",
    "\n",
    "\n",
    "    def autograd_compliant_predict(self, layers, inputs):\n",
    "        a = inputs\n",
    "        for (W, b), activation_func in zip(layers, self.activation_funcs):\n",
    "            z = a @ W + b\n",
    "            a = activation_func(z)\n",
    "        return a\n",
    "\n",
    "    def autograd_gradient(self, inputs, targets):\n",
    "        predictions = self.autograd_compliant_predict(self.layers, inputs)\n",
    "        return self.cost_der(predictions, targets)"
   ],
   "outputs": [],
   "execution_count": 277
  }
 ],
 "metadata": {
  "kernelspec": {
   "display_name": ".venv",
   "language": "python",
   "name": "python3"
  },
  "language_info": {
   "codemirror_mode": {
    "name": "ipython",
    "version": 3
   },
   "file_extension": ".py",
   "mimetype": "text/x-python",
   "name": "python",
   "nbconvert_exporter": "python",
   "pygments_lexer": "ipython3",
   "version": "3.12.7"
  }
 },
 "nbformat": 4,
 "nbformat_minor": 2
}
